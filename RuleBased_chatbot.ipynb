{
 "cells": [
  {
   "cell_type": "code",
   "execution_count": 2,
   "id": "c27ec111",
   "metadata": {},
   "outputs": [],
   "source": [
    "import numpy as np\n",
    "import pandas as pd\n",
    "import nltk\n",
    "from nltk.corpus import stopwords\n",
    "import bs4 as bs\n",
    "import urllib.request as url"
   ]
  },
  {
   "cell_type": "code",
   "execution_count": 3,
   "id": "c3410b5c",
   "metadata": {},
   "outputs": [
    {
     "name": "stdout",
     "output_type": "stream",
     "text": [
      "[<p>The <b>University of Calgary</b> (<b>U of C</b> or <b>UCalgary</b>) is a <a href=\"/wiki/Public_university\" title=\"Public university\">public</a> <a href=\"/wiki/Research_university\" title=\"Research university\">research university</a> located in <a href=\"/wiki/Calgary\" title=\"Calgary\">Calgary</a>, <a href=\"/wiki/Alberta\" title=\"Alberta\">Alberta</a>, Canada. The University of Calgary started in 1944 as the Calgary branch of the <a href=\"/wiki/University_of_Alberta\" title=\"University of Alberta\">University of Alberta</a>, founded in 1908, prior to being instituted into a separate, autonomous university in 1966. It is composed of 14 faculties and over 85 research institutes and centres. The main campus is located in the northwest quadrant of the city near the Bow River and a smaller south campus is located in the city centre. The main campus houses most of the research facilities and works with provincial and federal research and regulatory agencies, several of which are housed next to the campus such as the <a href=\"/wiki/Geological_Survey_of_Canada\" title=\"Geological Survey of Canada\">Geological Survey of Canada</a>. The main campus covers approximately 200 <a href=\"/wiki/Hectare\" title=\"Hectare\">hectares</a> (490 acres).\n",
      "</p>, <p>A member of the <a href=\"/wiki/U15_Group_of_Canadian_Research_Universities\" title=\"U15 Group of Canadian Research Universities\">U15</a>, the University of Calgary is also one of Canada's top research universities (based on the number of <a class=\"mw-redirect\" href=\"/wiki/Canada_Research_Chairs\" title=\"Canada Research Chairs\">Canada Research Chairs</a>). The university has a sponsored research revenue of $380.4 million,<sup class=\"reference\" id=\"cite_ref-FactSheet_5-0\"><a href=\"#cite_note-FactSheet-5\">[5]</a></sup><sup class=\"reference\" id=\"cite_ref-6\"><a href=\"#cite_note-6\">[6]</a></sup> with total revenues exceeding $1.2 billion. The university maintains close ties to the petroleum and geoscience industry through the Department of <a class=\"mw-redirect\" href=\"/wiki/Geosciences\" title=\"Geosciences\">Geosciences</a> and the <a href=\"/wiki/Schulich_School_of_Engineering\" title=\"Schulich School of Engineering\">Schulich School of Engineering</a>.<sup class=\"noprint Inline-Template\" style=\"white-space:nowrap;\">[<i><a href=\"/wiki/Wikipedia:Please_clarify\" title=\"Wikipedia:Please clarify\"><span title=\"What exactly is the relationship between these industries and the university? (August 2019)\">further explanation needed</span></a></i>]</sup> The university also maintains several other departments and faculties, including the <a href=\"/wiki/Cumming_School_of_Medicine\" title=\"Cumming School of Medicine\">Cumming School of Medicine</a>, the <a href=\"/wiki/University_of_Calgary_Faculty_of_Arts\" title=\"University of Calgary Faculty of Arts\">Faculty of Arts</a>,  the School of Public Policy, the <a href=\"/wiki/University_of_Calgary_Faculty_of_Law\" title=\"University of Calgary Faculty of Law\">Faculty of Law</a>, and the <a href=\"/wiki/Haskayne_School_of_Business\" title=\"Haskayne School of Business\">Haskayne School of Business</a>.<sup class=\"reference\" id=\"cite_ref-7\"><a href=\"#cite_note-7\">[7]</a></sup><sup class=\"reference\" id=\"cite_ref-auto1_8-0\"><a href=\"#cite_note-auto1-8\">[8]</a></sup><sup class=\"reference\" id=\"cite_ref-auto_9-0\"><a href=\"#cite_note-auto-9\">[9]</a></sup>\n",
      "</p>, <p>Notable former students include Canadian Prime Minister <a href=\"/wiki/Stephen_Harper\" title=\"Stephen Harper\">Stephen Harper</a>, <a class=\"mw-redirect\" href=\"/wiki/Java_computer_language\" title=\"Java computer language\">Java computer language</a> inventor <a href=\"/wiki/James_Gosling\" title=\"James Gosling\">James Gosling</a>, <a href=\"/wiki/Uber\" title=\"Uber\">Uber</a> co-founder <a href=\"/wiki/Garrett_Camp\" title=\"Garrett Camp\">Garrett Camp</a>, astronaut <a href=\"/wiki/Robert_Thirsk\" title=\"Robert Thirsk\">Robert Thirsk</a>, and <a href=\"/wiki/Lululemon_Athletica\" title=\"Lululemon Athletica\">Lululemon Athletica</a> founder <a href=\"/wiki/Chip_Wilson\" title=\"Chip Wilson\">Chip Wilson</a>.<sup class=\"reference\" id=\"cite_ref-FactSheet_5-1\"><a href=\"#cite_note-FactSheet-5\">[5]</a></sup> The university has produced over 170,000 alumni who reside in 152 countries.\n",
      "</p>]\n"
     ]
    }
   ],
   "source": [
    "extract_url = url.urlopen('https://en.wikipedia.org/wiki/University_of_Calgary#:~:text=The%20University%20of%20Calgary%20(U,separate%2C%20autonomous%20university%20in%201966.')\n",
    "raw_html = extract_url.read()\n",
    "\n",
    "article = bs.BeautifulSoup(raw_html, 'lxml')\n",
    "article = article.find_all('p')\n",
    "print(article[:3])"
   ]
  },
  {
   "cell_type": "code",
   "execution_count": 4,
   "id": "3c199dbd",
   "metadata": {},
   "outputs": [
    {
     "name": "stdout",
     "output_type": "stream",
     "text": [
      "The University of Calgary (U of C or UCalgary) is a public research university located in Calgary, Alberta, Canada. The University of Calgary started in 1944 as the Calgary branch of the University of Alberta, founded in 1908, prior to being instituted into a separate, autonomous university in 1966. It is composed of 14 faculties and over 85 research institutes and centres. The main campus is located in the northwest quadrant of the city near the Bow River and a smaller south campus is located in the city centre. The main campus houses most of the research facilities and works with provincial and federal research and regulatory agencies, several of which are housed next to the campus such as the Geological Survey of Canada. The main campus covers approximately 200 hectares (490 acres).\n",
      "A member of the U15, the University of Calgary is also one of Canada's top research universities (based on the number of Canada Research Chairs). The university has a sponsored research revenue of $380.4\n"
     ]
    }
   ],
   "source": [
    "art_text = ''\n",
    "for para in article:\n",
    "    art_text += para.text\n",
    "print(art_text[:1000])"
   ]
  },
  {
   "cell_type": "code",
   "execution_count": 5,
   "id": "27afbedf",
   "metadata": {},
   "outputs": [
    {
     "data": {
      "text/plain": [
       "['The',\n",
       " 'University',\n",
       " 'of',\n",
       " 'Calgary',\n",
       " '(',\n",
       " 'U',\n",
       " 'of',\n",
       " 'C',\n",
       " 'or',\n",
       " 'UCalgary',\n",
       " ')',\n",
       " 'is',\n",
       " 'a',\n",
       " 'public',\n",
       " 'research',\n",
       " 'university',\n",
       " 'located',\n",
       " 'in',\n",
       " 'Calgary',\n",
       " ',']"
      ]
     },
     "execution_count": 5,
     "metadata": {},
     "output_type": "execute_result"
    }
   ],
   "source": [
    "import re\n",
    "from nltk.stem import WordNetLemmatizer\n",
    "\n",
    "art_text = re.sub(r'\\[[0-9]*\\]', ' ', art_text)\n",
    "art_text = re.sub(r'\\s+', ' ', art_text)\n",
    "lemmatizer = WordNetLemmatizer()\n",
    "sent_tokens = nltk.sent_tokenize(art_text)\n",
    "sent_tokens[:1]\n",
    "word_tokens = nltk.word_tokenize(art_text)\n",
    "word_tokens[:20]"
   ]
  },
  {
   "cell_type": "code",
   "execution_count": 6,
   "id": "4c39e450",
   "metadata": {},
   "outputs": [
    {
     "name": "stdout",
     "output_type": "stream",
     "text": [
      "['h', 'e', ' ', 'u', 'n', 'v', 'e', 'r']\n"
     ]
    }
   ],
   "source": [
    "def lemmatization(docs):\n",
    "    \n",
    "    lemmat = [lemmatizer.lemmatize(w.lower()) for w in docs if w not in set(stopwords.words('English'))]\n",
    "    return lemmat\n",
    "def pre_processing(doc):\n",
    "    doc = doc.lower()\n",
    "    ignore_words = ['!', ',', '$', '&', '@', '.','?']\n",
    "    words = lemmatization(doc)\n",
    "    words = [w for w in words if w not in ignore_words]\n",
    "    return words\n",
    "print(pre_processing(art_text[:10]))\n",
    "        "
   ]
  },
  {
   "cell_type": "code",
   "execution_count": 7,
   "id": "3d92d02a",
   "metadata": {},
   "outputs": [],
   "source": [
    "import random\n",
    "\n",
    "greeting_inputs = (\"Hey\", \"Good morning\", \"Good evening\", \"morning\", \"evening\", \"Hi\", \"Wassup\")\n",
    "greeting_responses = [\"hey\", \"hey hows you?\", \"*nods*\", \"hello, how you doing\", \"hello\"]\n",
    "\n",
    "def generate_greeting_response(greeting):\n",
    "    for token in greeting.split():\n",
    "        if token.lower() in greeting_inputs:\n",
    "            return random.choice(greeting_responses)\n",
    "  "
   ]
  },
  {
   "cell_type": "code",
   "execution_count": 8,
   "id": "e4c337ed",
   "metadata": {},
   "outputs": [],
   "source": [
    "from sklearn.feature_extraction.text import TfidfVectorizer\n",
    "from sklearn.metrics.pairwise import cosine_similarity\n",
    "\n",
    "def generate_response(user_input):\n",
    "    uofc_response = ''\n",
    "    sent_tokens.append(user_input)\n",
    "\n",
    "    word_vectorizer = TfidfVectorizer(tokenizer=pre_processing, stop_words='english')\n",
    "    all_word_vectors = word_vectorizer.fit_transform(sent_tokens)\n",
    "    similar_vector_values = cosine_similarity(all_word_vectors[-1], all_word_vectors)\n",
    "    similar_sentence_number = similar_vector_values.argsort()[0][-2]\n",
    "\n",
    "    matched_vector = similar_vector_values.flatten()\n",
    "    matched_vector.sort()\n",
    "    vector_matched = matched_vector[-2]\n",
    "\n",
    "    if vector_matched == 0:\n",
    "        uofc_response = uofc_response + \"I am sorry, I could not understand you\"\n",
    "        return uofc_response\n",
    "    else:\n",
    "        uofc_response = uofc_response + sent_tokens[similar_sentence_number]\n",
    "        return uofc_response"
   ]
  },
  {
   "cell_type": "code",
   "execution_count": 9,
   "id": "cb364645",
   "metadata": {},
   "outputs": [
    {
     "name": "stderr",
     "output_type": "stream",
     "text": [
      "C:\\Users\\Vivek\\anaconda3\\lib\\site-packages\\sklearn\\feature_extraction\\text.py:391: UserWarning: Your stop_words may be inconsistent with your preprocessing. Tokenizing the stop words generated tokens ['b', 'c', 'e', 'f', 'g', 'h', 'k', 'l', 'n', 'p', 'r', 'u', 'v', 'w', 'x'] not in stop_words.\n",
      "  'stop_words.' % sorted(inconsistent))\n"
     ]
    }
   ],
   "source": [
    "word_vectorizer = TfidfVectorizer(tokenizer=pre_processing, stop_words='english')\n",
    "all_word_vectors = word_vectorizer.fit_transform(word_tokens)\n",
    "\n",
    "similar_vector_values = cosine_similarity(all_word_vectors[-1], all_word_vectors)\n",
    "\n",
    "similar_sentence_number = similar_vector_values.argsort()[0][-2]"
   ]
  },
  {
   "cell_type": "code",
   "execution_count": 10,
   "id": "3a6dc32a",
   "metadata": {},
   "outputs": [],
   "source": [
    "import pyttsx3\n",
    "import speech_recognition as sr\n",
    "import wikipedia\n",
    "from newspaper import Article\n",
    "import webbrowser\n",
    "import datetime\n",
    "def talk(string):\n",
    "    engine = pyttsx3.init('sapi5')\n",
    "    voices = engine.getProperty('voices')\n",
    "    engine.setProperty('voice', voices[0].id)\n",
    "    engine.say(string)\n",
    "    engine.runAndWait()\n",
    "def questi():\n",
    "    r=sr.Recognizer()\n",
    "    \n",
    "    with sr.Microphone() as source:\n",
    "        read = r.listen(source)\n",
    "        text = r.recognize_google(read)\n",
    "        return text\n",
    "def wiki(string):\n",
    "    return(wikipedia.summary(string, sentences = 2))\n"
   ]
  },
  {
   "cell_type": "code",
   "execution_count": 25,
   "id": "ec0c4030",
   "metadata": {},
   "outputs": [
    {
     "name": "stdout",
     "output_type": "stream",
     "text": [
      "hey dino\n",
      "Hello, How can I help you today \n",
      "Dino: This site became known as the Health Sciences Campus, with subsequent additions being the Heritage Medical Building (opened 1987), the Health Research Innovation Centre and the Teaching, Research and Wellness building.\n",
      "who are you\n",
      "Dino: It is published every weekday throughout the year.\n",
      "tell me about the fitness centre at the university of calgary\n",
      "Dino: Members of the board of governors include the chancellor of the university, the university president, two alumni nominated by the alumni association, a member of the university senate, nine members of the general public, as well as three students, and three staff members nominated by their respective associations.\n",
      "in which year was the university of calgary founded\n",
      "Dino: The main campus houses most of the research facilities and works with provincial and federal research and regulatory agencies, several of which are housed next to the campus such as the Geological Survey of Canada.\n",
      "bye\n",
      "Dino: Good bye and take care of yourself...\n"
     ]
    }
   ],
   "source": [
    "hello_dino = \"hey dino\"\n",
    "continue_dialogue = True\n",
    "\n",
    "while(continue_dialogue == True):\n",
    "    human_text = questi().lower()\n",
    "    human_text = human_text.lower()\n",
    "    print(human_text)\n",
    "    if (human_text == hello_dino):\n",
    "        talk(\"Hello, How can I help you today\")\n",
    "        print(\"Hello, How can I help you today \")\n",
    "    if 'Who are you' in human_text:\n",
    "        response = 'I am Dino, your assistant, built by Vivek from University of Calgary. I am here to help you with what you are looking for. However, I am not completely built, but I could assist you with what I am programmed for'\n",
    "        print(response)\n",
    "        talk(response)\n",
    "    elif 'open youtube' in human_text:\n",
    "        talk('OPening Youtube')\n",
    "        result = webbrowser.open('www.youtube.com')\n",
    "    elif 'open google' in human_text:\n",
    "        talk('Opening google')\n",
    "        result = webbrowser.open('www.google.com')\n",
    "    elif 'what is the time' in human_text:\n",
    "        currenttime = datetime.datetime.now().strftime(\"%H:%M:%S\")    \n",
    "        talk(f'the time is {currenttime}')\n",
    "    \n",
    "    if human_text != 'bye':\n",
    "        if human_text == 'thanks' or human_text == 'thank you very much' or human_text == 'thank you':\n",
    "            continue_dialogue = False\n",
    "            talk(\"You're most welcome\")\n",
    "            print(\"dino: Most welcome\")\n",
    "        \n",
    "        else:\n",
    "            if generate_greeting_response(human_text) != None:\n",
    "                talk(\"dino: \" + generate_greeting_response(human_text))\n",
    "                print(\"dino: \" + generate_greeting_response(human_text))\n",
    "            else:\n",
    "                print(\"Dino: \", end=\"\")\n",
    "                resp = generate_response(human_text)\n",
    "                talk(resp)\n",
    "                print(resp)\n",
    "                sent_tokens.remove(human_text)\n",
    "                \n",
    "                \n",
    "    else:\n",
    "        continue_dialogue = False\n",
    "        talk(\"Good bye and take care of yourself\")\n",
    "        print(\"Dino: Good bye and take care of yourself...\")"
   ]
  },
  {
   "cell_type": "code",
   "execution_count": null,
   "id": "7596845f",
   "metadata": {},
   "outputs": [],
   "source": []
  },
  {
   "cell_type": "code",
   "execution_count": null,
   "id": "3e992c41",
   "metadata": {},
   "outputs": [],
   "source": []
  }
 ],
 "metadata": {
  "kernelspec": {
   "display_name": "Python 3",
   "language": "python",
   "name": "python3"
  },
  "language_info": {
   "codemirror_mode": {
    "name": "ipython",
    "version": 3
   },
   "file_extension": ".py",
   "mimetype": "text/x-python",
   "name": "python",
   "nbconvert_exporter": "python",
   "pygments_lexer": "ipython3",
   "version": "3.7.10"
  }
 },
 "nbformat": 4,
 "nbformat_minor": 5
}
